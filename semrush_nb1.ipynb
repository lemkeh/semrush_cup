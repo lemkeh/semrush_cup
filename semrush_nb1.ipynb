{
 "cells": [
  {
   "cell_type": "markdown",
   "id": "l5tPCZCVmjRI",
   "metadata": {
    "id": "l5tPCZCVmjRI"
   },
   "source": [
    "## imports\n",
    "\n"
   ]
  },
  {
   "cell_type": "code",
   "execution_count": 2,
   "id": "xlQLUndYuOiN",
   "metadata": {
    "executionInfo": {
     "elapsed": 843,
     "status": "ok",
     "timestamp": 1655652355673,
     "user": {
      "displayName": "lemke",
      "userId": "13818707984858140238"
     },
     "user_tz": -180
    },
    "id": "xlQLUndYuOiN"
   },
   "outputs": [],
   "source": [
    "import pandas as pd\n",
    "import numpy as np\n",
    "import random\n",
    "\n",
    "from datetime import datetime\n",
    "from operator import attrgetter\n",
    "\n",
    "from sklearn.preprocessing import LabelEncoder\n",
    "\n",
    "from catboost import CatBoostClassifier\n",
    "\n",
    "from sklearn.metrics import f1_score, precision_score, recall_score"
   ]
  },
  {
   "cell_type": "markdown",
   "id": "yuxV8GDnYQU-",
   "metadata": {
    "id": "yuxV8GDnYQU-"
   },
   "source": [
    "## preprocessing \n"
   ]
  },
  {
   "cell_type": "code",
   "execution_count": 46,
   "id": "2YLExPyf46Ch",
   "metadata": {
    "executionInfo": {
     "elapsed": 42720,
     "status": "ok",
     "timestamp": 1655650911510,
     "user": {
      "displayName": "lemke",
      "userId": "13818707984858140238"
     },
     "user_tz": -180
    },
    "id": "2YLExPyf46Ch",
    "scrolled": true
   },
   "outputs": [],
   "source": [
    "df = pd.read_csv('/content/drive/MyDrive/notebooks/semrush /semrush_cup_train_data.csv')\n",
    "cad = pd.read_csv('/content/drive/MyDrive/notebooks/semrush /semrush_cup_categories_and_demo.csv')\n",
    "valid_df = pd.read_csv('/content/drive/MyDrive/notebooks/semrush /semrush_cup_test_data.csv')"
   ]
  },
  {
   "cell_type": "code",
   "execution_count": 47,
   "id": "IcpwfxonBMip",
   "metadata": {
    "executionInfo": {
     "elapsed": 3433,
     "status": "ok",
     "timestamp": 1655650914918,
     "user": {
      "displayName": "lemke",
      "userId": "13818707984858140238"
     },
     "user_tz": -180
    },
    "id": "IcpwfxonBMip"
   },
   "outputs": [],
   "source": [
    "list_ = list(df['event_group_id'].unique()) \n",
    "a = int(np.round(len(list_)*0.8)/10)\n",
    "random.shuffle(list_)\n",
    "df_l = list_[:a] \n",
    "df = df.loc[df.event_group_id.isin(df_l)]\n",
    "del df_l, list_"
   ]
  },
  {
   "cell_type": "code",
   "execution_count": 48,
   "id": "01c7b222",
   "metadata": {
    "colab": {
     "base_uri": "https://localhost:8080/"
    },
    "executionInfo": {
     "elapsed": 1997,
     "status": "ok",
     "timestamp": 1655650916888,
     "user": {
      "displayName": "lemke",
      "userId": "13818707984858140238"
     },
     "user_tz": -180
    },
    "id": "01c7b222",
    "outputId": "ce85cc1c-df62-4fe2-8433-4b7f792ff7ca"
   },
   "outputs": [
    {
     "name": "stderr",
     "output_type": "stream",
     "text": [
      "/usr/local/lib/python3.7/dist-packages/pandas/core/indexing.py:1732: SettingWithCopyWarning: \n",
      "A value is trying to be set on a copy of a slice from a DataFrame\n",
      "\n",
      "See the caveats in the documentation: https://pandas.pydata.org/pandas-docs/stable/user_guide/indexing.html#returning-a-view-versus-a-copy\n",
      "  self._setitem_single_block(indexer, value, name)\n"
     ]
    }
   ],
   "source": [
    "#  fill nan domains, drop urls (in version w nlp delete last 3 lines)\n",
    "if df.domain.isna().sum()!= 0:\n",
    "    df.domain.loc[df.domain.isna()] = df.loc[df.domain.isna()]\\\n",
    "                                      .apply(lambda x: x['url'].split('/')[0], axis = 1)\\\n",
    "                                      .apply(lambda x: '.'.join(x.split('.')[-2:]))\n",
    "\n",
    "cad.drop(cad.loc[cad['domain'].isna()].index, inplace =True)\n",
    "\n",
    "if df.loc[(df.referrer_domain.isna()) & (df.referrer_url.isna()==False)].shape[0] > 0:\n",
    "    df.domain.loc[(df.referrer_domain.isna()) & (df.referrer_url.isna()==False)] = df.loc[(df.referrer_domain.isna()) & (df.referrer_url.isna()==False)]\\\n",
    "                                                                                    .apply(lambda x: x['referrer_url'].split('/')[0], axis = 1)\\\n",
    "                                                                                    .apply(lambda x: '.'.join(x.split('.')[-2:]))\n",
    "\n",
    "if valid_df.domain.isna().sum() != 0:\n",
    "    valid_df.domain.loc[valid_df.domain.isna()] = valid_df.loc[valid_df.domain.isna()]\\\n",
    "                                                        .apply(lambda x: x['url'].split('/')[0], axis = 1)\\\n",
    "                                                        .apply(lambda x: '.'.join(x.split('.')[-2:]))\n",
    "\n",
    "\n",
    "\n",
    "# df.drop(['url', 'referrer_url'],  axis =1, inplace=True)\n",
    "# valid_df.drop(['url'],  axis =1, inplace=True)\n",
    "# cad['domain'] = cad['domain'].dropna()"
   ]
  },
  {
   "cell_type": "code",
   "execution_count": 48,
   "id": "WFjo6CB5Kisr",
   "metadata": {
    "executionInfo": {
     "elapsed": 18,
     "status": "ok",
     "timestamp": 1655650916889,
     "user": {
      "displayName": "lemke",
      "userId": "13818707984858140238"
     },
     "user_tz": -180
    },
    "id": "WFjo6CB5Kisr"
   },
   "outputs": [],
   "source": []
  },
  {
   "cell_type": "code",
   "execution_count": 49,
   "id": "fbef8219",
   "metadata": {
    "executionInfo": {
     "elapsed": 5469,
     "status": "ok",
     "timestamp": 1655650922343,
     "user": {
      "displayName": "lemke",
      "userId": "13818707984858140238"
     },
     "user_tz": -180
    },
    "id": "fbef8219"
   },
   "outputs": [],
   "source": [
    "cad = cad.loc[cad.domain.isna()==False]\n",
    "valid_df = valid_df.loc[valid_df.domain.isna()==False]\n",
    "\n",
    "df['nat_domain'] = df.domain.apply(lambda x: x.split('.')[-1])\n",
    "df['nat_ref_domain'] = df.referrer_domain.dropna().apply(lambda x: x.split('.')[-1])\n",
    "\n",
    "valid_df['nat_domain'] = valid_df.domain.dropna().apply(lambda x: x.split('.')[-1])"
   ]
  },
  {
   "cell_type": "code",
   "execution_count": 50,
   "id": "5d5731c2",
   "metadata": {
    "executionInfo": {
     "elapsed": 39880,
     "status": "ok",
     "timestamp": 1655650962197,
     "user": {
      "displayName": "lemke",
      "userId": "13818707984858140238"
     },
     "user_tz": -180
    },
    "id": "5d5731c2"
   },
   "outputs": [],
   "source": [
    "# domains encoding & memory optimization\n",
    "\n",
    "df['domain'].fillna('a', inplace = True)\n",
    "df['referrer_domain'].fillna('a', inplace  = True)\n",
    "df['domain'].fillna('a', inplace = True)\n",
    "\n",
    "a = np.append(df['referrer_domain'].unique(), cad.domain.unique())\n",
    "a = np.append(a , df['domain'].unique()) \n",
    "a = list(set(np.append(a , valid_df['domain'].unique())))\n",
    "\n",
    "le = LabelEncoder()\n",
    "le.fit(a)\n",
    "\n",
    "\n",
    "df['domain'] = le.transform(df['domain'])\n",
    "df['referrer_domain'] = le.transform(df['referrer_domain'])\n",
    "cad['domain'] = le.transform(cad['domain'])\n",
    "valid_df['domain']= le.transform(valid_df['domain'])\n",
    "\n",
    "\n",
    "df['domain'] = df.domain.astype(int)\n",
    "df['referrer_domain'] = df.referrer_domain.astype(int)\n",
    "cad['domain'] = cad.domain.astype(int)\n",
    "valid_df['domain'] = valid_df.domain.astype(int)\n",
    "\n",
    "\n",
    "\n",
    "\n",
    "# nat domain encoding & memory optimization\n",
    "a = list(set(np.append(df['nat_ref_domain'].unique() , df['nat_domain'].unique()))) \n",
    "a = list(set(np.append(a , valid_df['nat_domain'].unique())))\n",
    "a.append('a')\n",
    "\n",
    "le.fit(a)\n",
    "\n",
    "df['nat_domain'] = le.transform(df['nat_domain'])\n",
    "df['nat_ref_domain'] = le.transform(df['nat_ref_domain'].fillna('a'))\n",
    "valid_df['nat_domain'] = le.transform(valid_df['nat_domain'])\n",
    "\n",
    "df['nat_domain'] = df.nat_domain.astype(int)\n",
    "df['nat_ref_domain'] = df.nat_ref_domain.astype(int)\n",
    "valid_df['nat_domain'] = valid_df.nat_domain.astype(int)\n",
    "\n",
    "del a \n",
    "\n",
    "# memory optimizatioin\n",
    "df.replace({'target':11}, inplace = True)\n",
    "valid_df.replace({'target':11}, inplace = True)\n",
    "\n",
    "df['referrer_num'] = df.referrer_num.astype(int)\n",
    "valid_df['referrer_num'] = valid_df.referrer_num.astype(int)\n",
    "\n",
    "\n",
    "# categories encoding memory optimization\n",
    "le.fit(np.append(cad['category_1'].unique(),  'a'))\n",
    "cad['category_1'] = le.transform(cad['category_1'].fillna('a'))\n",
    "cad['category_2'] = le.transform(cad['category_2'].fillna('a'))"
   ]
  },
  {
   "cell_type": "code",
   "execution_count": 51,
   "id": "U5uATS8JeiLU",
   "metadata": {
    "colab": {
     "base_uri": "https://localhost:8080/"
    },
    "executionInfo": {
     "elapsed": 21,
     "status": "ok",
     "timestamp": 1655650962198,
     "user": {
      "displayName": "lemke",
      "userId": "13818707984858140238"
     },
     "user_tz": -180
    },
    "id": "U5uATS8JeiLU",
    "outputId": "0238a7b7-6387-4b1b-938e-a6f419e59fb4"
   },
   "outputs": [
    {
     "data": {
      "text/plain": [
       "0"
      ]
     },
     "execution_count": 51,
     "metadata": {},
     "output_type": "execute_result"
    }
   ],
   "source": [
    "cad.domain.isna().sum()"
   ]
  },
  {
   "cell_type": "code",
   "execution_count": 52,
   "id": "deoUl_kRvWOy",
   "metadata": {
    "colab": {
     "base_uri": "https://localhost:8080/"
    },
    "executionInfo": {
     "elapsed": 5932,
     "status": "ok",
     "timestamp": 1655650968113,
     "user": {
      "displayName": "lemke",
      "userId": "13818707984858140238"
     },
     "user_tz": -180
    },
    "id": "deoUl_kRvWOy",
    "outputId": "daa3ce08-91ab-4fdc-c03d-60bd4e6340b6"
   },
   "outputs": [
    {
     "name": "stderr",
     "output_type": "stream",
     "text": [
      "/usr/local/lib/python3.7/dist-packages/pandas/core/generic.py:6392: SettingWithCopyWarning: \n",
      "A value is trying to be set on a copy of a slice from a DataFrame\n",
      "\n",
      "See the caveats in the documentation: https://pandas.pydata.org/pandas-docs/stable/user_guide/indexing.html#returning-a-view-versus-a-copy\n",
      "  return self._update_inplace(result)\n"
     ]
    }
   ],
   "source": [
    "# remake w/o for loop\n",
    "for i in cad.columns[3:]:\n",
    "    cad[i].fillna(cad.groupby(['category_1', 'category_2'])[i].transform('median').dropna().round(2) , inplace= True)\n",
    "    cad[i].fillna(cad.groupby(['category_2', 'category_1'])[i].transform('median').dropna().round(2), inplace= True)\n",
    "    cad[i].fillna(cad.groupby('category_2')[i].transform('median').dropna().round(2), inplace= True)\n",
    "    cad[i].fillna(cad.groupby('category_1')[i].transform('median').dropna().round(2), inplace= True)\n",
    "# cad.fillna(cad.loc[(cad.category_1.isna()==True) & (cad.category_2.isna()==True)].mean().round(2), inplace= True)\n",
    "cad[cad.columns[3:]].fillna(cad.median(), inplace = True)"
   ]
  },
  {
   "cell_type": "code",
   "execution_count": 53,
   "id": "1uoNJ8k2wI-Q",
   "metadata": {
    "executionInfo": {
     "elapsed": 6592,
     "status": "ok",
     "timestamp": 1655650974687,
     "user": {
      "displayName": "lemke",
      "userId": "13818707984858140238"
     },
     "user_tz": -180
    },
    "id": "1uoNJ8k2wI-Q"
   },
   "outputs": [],
   "source": [
    "c = df.groupby(['referrer_domain']).count()\n",
    "df = pd.merge(df, c['timestamp'], left_on='domain', right_index=True, how='left')\n",
    "df.rename(columns = {'timestamp_y':'ref_dom_freq', 'timestamp_x':'timestamp'}, inplace=True)\n",
    "# # how often this domain is refferal for \n",
    "valid_df = pd.merge(valid_df, c['timestamp'], left_on='domain', right_index=True, how='left')\n",
    "valid_df.rename(columns = {'timestamp_y':'ref_dom_freq', 'timestamp_x':'timestamp'}, inplace=True)\n",
    "# # how often this domain is refferal for valid\n",
    "df.ref_dom_freq.fillna(0, inplace = True)\n",
    "valid_df.ref_dom_freq.fillna(0, inplace = True)\n",
    "\n",
    "df['ref_dom_freq'] = df.ref_dom_freq.astype(int)\n",
    "valid_df['ref_dom_freq'] = valid_df.ref_dom_freq.astype(int)\n",
    "\n",
    "\n",
    "c = df.groupby(['domain']).count()\n",
    "df = pd.merge(df, c['timestamp'], left_on='domain', right_index=True, how='left')\n",
    "df.rename(columns = {'timestamp':'dom_freq', 'referrer_domain': 'has_ref_freq'}, inplace=True)\n",
    "# # # domain frequency \n",
    "valid_df = pd.merge(valid_df, c['timestamp'], left_on='domain', right_index=True, how='left')\n",
    "valid_df.rename(columns = {'timestamp_y':'dom_freq_', 'timestamp_x':'timestamp'}, inplace=True)\n",
    "# # # domain frequency for val df\n",
    "valid_df['dom_freq_'] = valid_df.dom_freq_.fillna(0).astype(int)\n",
    "\n",
    "c = df.groupby(['referrer_domain']).sum()\n",
    "df = pd.merge(df, c['is_referrer'], left_on='referrer_domain', right_index=True, how='left')\n",
    "df.rename(columns = {'is_referrer_x':'is_referrer', 'is_referrer_y':'is_referrer_freq'}, inplace=True)\n",
    "# # # # #is referrer freq  \n",
    "# valid_df = pd.merge(valid_df, c['is_referrer'], left_on='domain', right_index=True, how='left')\n",
    "# valid_df.rename(columns = {'timestamp_y':'ref_dom_freq', 'timestamp_x':'timestamp'}, inplace=True)\n",
    "# # # # # is referrer count  for val df \n"
   ]
  },
  {
   "cell_type": "code",
   "execution_count": 54,
   "id": "Wq6NfsgHwtEt",
   "metadata": {
    "executionInfo": {
     "elapsed": 23049,
     "status": "ok",
     "timestamp": 1655650997719,
     "user": {
      "displayName": "lemke",
      "userId": "13818707984858140238"
     },
     "user_tz": -180
    },
    "id": "Wq6NfsgHwtEt"
   },
   "outputs": [],
   "source": [
    "# def del_empty(a):\n",
    "#     return len(list(filter(lambda x: x!= '', a )))\n",
    "# # returns len of clean list\n",
    "\n",
    "def timestamp_to_tuple(ts):\n",
    "    attrs = ('year', 'month', 'day', 'hour')#, 'minute', 'second')\n",
    "    d_tuple = attrgetter(*attrs)(datetime.fromtimestamp(ts))\n",
    "    return d_tuple\n",
    "\n",
    "df['datetime'] = df.timestamp.apply(timestamp_to_tuple)\n",
    "df['month'] = df.datetime.apply(lambda x: x[1])\n",
    "df['day'] = df.datetime.apply(lambda x: x[2])\n",
    "df['hour'] = df.datetime.apply(lambda x: x[3])\n",
    "\n",
    "df.drop(columns = ['datetime', 'timestamp'], inplace = True)\n",
    "\n",
    "valid_df['datetime'] = valid_df.timestamp.apply(timestamp_to_tuple)\n",
    "valid_df['month'] = valid_df.datetime.apply(lambda x: x[1])\n",
    "valid_df['day'] = valid_df.datetime.apply(lambda x: x[2])\n",
    "valid_df['hour'] = valid_df.datetime.apply(lambda x: x[3])\n",
    "\n",
    "valid_df.drop(columns = ['datetime', 'timestamp'], inplace = True)\n"
   ]
  },
  {
   "cell_type": "code",
   "execution_count": 55,
   "id": "9YsB7ThsTI5M",
   "metadata": {
    "executionInfo": {
     "elapsed": 60902,
     "status": "ok",
     "timestamp": 1655651058614,
     "user": {
      "displayName": "lemke",
      "userId": "13818707984858140238"
     },
     "user_tz": -180
    },
    "id": "9YsB7ThsTI5M"
   },
   "outputs": [],
   "source": [
    "df.to_csv('/content/drive/MyDrive/notebooks/semrush /df_pp.csv')\n",
    "valid_df.to_csv('/content/drive/MyDrive/notebooks/semrush /valid_pp.csv')\n",
    "cad.to_csv('/content/drive/MyDrive/notebooks/semrush /cad_pp.csv')\n"
   ]
  },
  {
   "cell_type": "markdown",
   "id": "ZPQZ534AYXMt",
   "metadata": {
    "id": "ZPQZ534AYXMt"
   },
   "source": [
    "## train test\n"
   ]
  },
  {
   "cell_type": "code",
   "execution_count": 46,
   "id": "RmbaSRkgmC5x",
   "metadata": {
    "executionInfo": {
     "elapsed": 5,
     "status": "ok",
     "timestamp": 1655653069638,
     "user": {
      "displayName": "lemke",
      "userId": "13818707984858140238"
     },
     "user_tz": -180
    },
    "id": "RmbaSRkgmC5x"
   },
   "outputs": [],
   "source": [
    "cad['dom_freq'] =  cad.dom_freq.fillna(0).astype(int)\n",
    "cad['category_1'] =  cad.category_1.fillna(0).astype(int)\n",
    "cad['category_2'] =  cad.category_2.fillna(0).astype(int)"
   ]
  },
  {
   "cell_type": "code",
   "execution_count": 47,
   "id": "0dee79b9",
   "metadata": {
    "colab": {
     "base_uri": "https://localhost:8080/"
    },
    "executionInfo": {
     "elapsed": 2665,
     "status": "ok",
     "timestamp": 1655653073956,
     "user": {
      "displayName": "lemke",
      "userId": "13818707984858140238"
     },
     "user_tz": -180
    },
    "id": "0dee79b9",
    "outputId": "47edc0ca-dcee-4d36-c53e-22d2772c2293"
   },
   "outputs": [
    {
     "name": "stderr",
     "output_type": "stream",
     "text": [
      "/usr/local/lib/python3.7/dist-packages/ipykernel_launcher.py:5: FutureWarning: Dropping of nuisance columns in DataFrame reductions (with 'numeric_only=None') is deprecated; in a future version this will raise TypeError.  Select only valid columns before calling the reduction.\n",
      "  \"\"\"\n"
     ]
    }
   ],
   "source": [
    "df = pd.merge(df, cad , on = 'domain', how= 'left')\n",
    "valid_df = pd.merge(valid_df, cad , on = 'domain', how= 'left')\n",
    "del cad\n",
    "\n",
    "df.loc[df.M.isna()] = df.loc[df.M.isna()].fillna(df.median())"
   ]
  },
  {
   "cell_type": "code",
   "execution_count": 48,
   "id": "bRQoDVfdhWVt",
   "metadata": {
    "executionInfo": {
     "elapsed": 617,
     "status": "ok",
     "timestamp": 1655653077247,
     "user": {
      "displayName": "lemke",
      "userId": "13818707984858140238"
     },
     "user_tz": -180
    },
    "id": "bRQoDVfdhWVt"
   },
   "outputs": [],
   "source": [
    "df.drop(columns = ['referrer_url', 'url'], inplace = True)"
   ]
  },
  {
   "cell_type": "code",
   "execution_count": 49,
   "id": "zporG45P1ZwA",
   "metadata": {
    "executionInfo": {
     "elapsed": 396,
     "status": "ok",
     "timestamp": 1655653077630,
     "user": {
      "displayName": "lemke",
      "userId": "13818707984858140238"
     },
     "user_tz": -180
    },
    "id": "zporG45P1ZwA"
   },
   "outputs": [],
   "source": [
    "# traintest split shuffled aprox same distribution on large data\n",
    "list_ = list(df['event_group_id'].unique()) \n",
    "a = int(np.round(len(list_)*0.8)) # len of  list of event ids  for tr/t split\n",
    "\n",
    "random.shuffle(list_)\n",
    "\n",
    "train = list_[:a] \n",
    "test = list_[a:]\n",
    "# list of shuffled event ids\n",
    "\n",
    "\n",
    "train = df.loc[df.event_group_id.isin(train)]\n",
    "test = df.loc[df.event_group_id.isin(test)]\n",
    "del df, list_"
   ]
  },
  {
   "cell_type": "code",
   "execution_count": 50,
   "id": "8ETUybflQfJS",
   "metadata": {
    "executionInfo": {
     "elapsed": 8,
     "status": "ok",
     "timestamp": 1655653077631,
     "user": {
      "displayName": "lemke",
      "userId": "13818707984858140238"
     },
     "user_tz": -180
    },
    "id": "8ETUybflQfJS"
   },
   "outputs": [],
   "source": [
    "predict  = test[['event_group_id', 'is_referrer']].copy()"
   ]
  },
  {
   "cell_type": "code",
   "execution_count": 51,
   "id": "4pyp2MNL6Zy4",
   "metadata": {
    "executionInfo": {
     "elapsed": 11,
     "status": "ok",
     "timestamp": 1655653078254,
     "user": {
      "displayName": "lemke",
      "userId": "13818707984858140238"
     },
     "user_tz": -180
    },
    "id": "4pyp2MNL6Zy4"
   },
   "outputs": [],
   "source": [
    "x_test =  test.drop(['is_referrer' ], axis =1)\n",
    "y_test = test['is_referrer']\n",
    "del test \n",
    "\n",
    "x_train = train.drop('is_referrer', axis =1)\n",
    "y_train = train['is_referrer']\n",
    "del train\n",
    "\n",
    "x_valid =  valid_df.copy()\n",
    "del valid_df"
   ]
  },
  {
   "cell_type": "code",
   "execution_count": 61,
   "id": "-bvSIN-slQJL",
   "metadata": {
    "executionInfo": {
     "elapsed": 5,
     "status": "ok",
     "timestamp": 1655653208970,
     "user": {
      "displayName": "lemke",
      "userId": "13818707984858140238"
     },
     "user_tz": -180
    },
    "id": "-bvSIN-slQJL"
   },
   "outputs": [],
   "source": [
    "x_train['category_1'] = x_train.category_1.astype(int)\n",
    "x_train['category_2'] = x_train.category_2.astype(int)\n",
    "\n",
    "x_test['category_1'] = x_test.category_1.astype(int)\n",
    "x_test['category_2'] = x_test.category_2.astype(int)"
   ]
  },
  {
   "cell_type": "code",
   "execution_count": 63,
   "id": "yAA78pBqdx7E",
   "metadata": {
    "executionInfo": {
     "elapsed": 5,
     "status": "ok",
     "timestamp": 1655653268639,
     "user": {
      "displayName": "lemke",
      "userId": "13818707984858140238"
     },
     "user_tz": -180
    },
    "id": "yAA78pBqdx7E"
   },
   "outputs": [],
   "source": [
    "cat_cols = ['event_group_id', 'device_id', 'domain', 'referrer_domain',\n",
    "            'referrer_num', 'nat_domain', 'nat_ref_domain',\n",
    "            'month', 'day', 'hour', 'category_1', 'category_2']"
   ]
  },
  {
   "cell_type": "code",
   "execution_count": null,
   "id": "51jSXx7GmnuP",
   "metadata": {
    "id": "51jSXx7GmnuP"
   },
   "outputs": [],
   "source": [
    "model = CatBoostClassifier(cat_features=cat_cols)\n",
    "model.fit(x_train, y_train)\n"
   ]
  },
  {
   "cell_type": "code",
   "execution_count": 70,
   "id": "27HhDIXy7VrQ",
   "metadata": {
    "executionInfo": {
     "elapsed": 15428,
     "status": "ok",
     "timestamp": 1655657041124,
     "user": {
      "displayName": "lemke",
      "userId": "13818707984858140238"
     },
     "user_tz": -180
    },
    "id": "27HhDIXy7VrQ"
   },
   "outputs": [],
   "source": [
    "preds_prob = model.predict_proba(x_test)\n",
    "predict['preds_proba'] = preds_prob[::, 1]"
   ]
  },
  {
   "cell_type": "code",
   "execution_count": 71,
   "id": "EyKEb1ta8bTd",
   "metadata": {
    "executionInfo": {
     "elapsed": 5264,
     "status": "ok",
     "timestamp": 1655657049243,
     "user": {
      "displayName": "lemke",
      "userId": "13818707984858140238"
     },
     "user_tz": -180
    },
    "id": "EyKEb1ta8bTd"
   },
   "outputs": [],
   "source": [
    "true_values = predict.groupby('event_group_id').apply(lambda x: x['is_referrer'].argmax()).values\n",
    "predict_values = predict.groupby('event_group_id').apply(lambda x: x['preds_proba'].argmax()).values"
   ]
  },
  {
   "cell_type": "code",
   "execution_count": 72,
   "id": "EKqoLbcQAvms",
   "metadata": {
    "colab": {
     "base_uri": "https://localhost:8080/"
    },
    "executionInfo": {
     "elapsed": 7,
     "status": "ok",
     "timestamp": 1655657049244,
     "user": {
      "displayName": "lemke",
      "userId": "13818707984858140238"
     },
     "user_tz": -180
    },
    "id": "EKqoLbcQAvms",
    "outputId": "dde4a8c7-03d6-4070-8199-eb75727bedcd"
   },
   "outputs": [
    {
     "data": {
      "text/plain": [
       "0.40465749460558803"
      ]
     },
     "execution_count": 72,
     "metadata": {},
     "output_type": "execute_result"
    }
   ],
   "source": [
    "f1_score(true_values, predict_values, average='macro')"
   ]
  },
  {
   "cell_type": "code",
   "execution_count": 73,
   "id": "E92FecFkD1q3",
   "metadata": {
    "colab": {
     "base_uri": "https://localhost:8080/"
    },
    "executionInfo": {
     "elapsed": 512,
     "status": "ok",
     "timestamp": 1655657052347,
     "user": {
      "displayName": "lemke",
      "userId": "13818707984858140238"
     },
     "user_tz": -180
    },
    "id": "E92FecFkD1q3",
    "outputId": "8ee9737a-ecde-4046-89c2-8b0049944d07"
   },
   "outputs": [
    {
     "data": {
      "text/plain": [
       "0.4169506046426216"
      ]
     },
     "execution_count": 73,
     "metadata": {},
     "output_type": "execute_result"
    }
   ],
   "source": [
    "precision_score(true_values, predict_values, average='macro')"
   ]
  },
  {
   "cell_type": "code",
   "execution_count": 74,
   "id": "pgGw4WbXFbrZ",
   "metadata": {
    "colab": {
     "base_uri": "https://localhost:8080/"
    },
    "executionInfo": {
     "elapsed": 7,
     "status": "ok",
     "timestamp": 1655657054093,
     "user": {
      "displayName": "lemke",
      "userId": "13818707984858140238"
     },
     "user_tz": -180
    },
    "id": "pgGw4WbXFbrZ",
    "outputId": "ce13a04b-9cb1-46b4-b1f7-9d5e0aff2240"
   },
   "outputs": [
    {
     "name": "stderr",
     "output_type": "stream",
     "text": [
      "/usr/local/lib/python3.7/dist-packages/sklearn/metrics/_classification.py:1318: UndefinedMetricWarning: Recall is ill-defined and being set to 0.0 in labels with no true samples. Use `zero_division` parameter to control this behavior.\n",
      "  _warn_prf(average, modifier, msg_start, len(result))\n"
     ]
    },
    {
     "data": {
      "text/plain": [
       "0.3944694158072941"
      ]
     },
     "execution_count": 74,
     "metadata": {},
     "output_type": "execute_result"
    }
   ],
   "source": [
    "recall_score(true_values, predict_values, average='macro')"
   ]
  },
  {
   "cell_type": "code",
   "execution_count": null,
   "id": "73-Q834M2bqa",
   "metadata": {
    "id": "73-Q834M2bqa"
   },
   "outputs": [],
   "source": []
  }
 ],
 "metadata": {
  "colab": {
   "collapsed_sections": [
    "k0nE_G9DZwaf",
    "l5tPCZCVmjRI",
    "yuxV8GDnYQU-",
    "ZPQZ534AYXMt"
   ],
   "name": "semrush_for_git.ipynb",
   "provenance": [
    {
     "file_id": "1cmpgNlOjZlgvax5VoZqC8Hz1BsbyNLp3",
     "timestamp": 1655643044516
    }
   ]
  },
  "kernelspec": {
   "display_name": "Python 3 (ipykernel)",
   "language": "python",
   "name": "python3"
  },
  "language_info": {
   "codemirror_mode": {
    "name": "ipython",
    "version": 3
   },
   "file_extension": ".py",
   "mimetype": "text/x-python",
   "name": "python",
   "nbconvert_exporter": "python",
   "pygments_lexer": "ipython3",
   "version": "3.9.7"
  }
 },
 "nbformat": 4,
 "nbformat_minor": 5
}
